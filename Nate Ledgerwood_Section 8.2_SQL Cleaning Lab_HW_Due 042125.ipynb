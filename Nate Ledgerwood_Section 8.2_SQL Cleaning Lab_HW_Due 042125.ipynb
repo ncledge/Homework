{
 "cells": [
  {
   "cell_type": "markdown",
   "id": "425bcc5c",
   "metadata": {},
   "source": [
    "# Nate Ledgerwood Section 8.2 Homework"
   ]
  },
  {
   "cell_type": "markdown",
   "id": "e6a6f9df",
   "metadata": {},
   "source": [
    "SELECT Accel, RTRIM(Accel, ' sec')\n",
    "FROM evCars\n"
   ]
  },
  {
   "cell_type": "markdown",
   "id": "ea8aa8e7",
   "metadata": {},
   "source": [
    "UPDATE evCars\n",
    "SET Accel = RTRIM(Accel, 'sec')"
   ]
  },
  {
   "cell_type": "markdown",
   "id": "72fac5e5",
   "metadata": {},
   "source": [
    "SELECT Accel FROM evCars;"
   ]
  },
  {
   "cell_type": "markdown",
   "id": "9aed257f",
   "metadata": {},
   "source": [
    "ALTER TABLE evCars\n",
    "\tRENAME Accel TO AccelSec"
   ]
  },
  {
   "cell_type": "markdown",
   "id": "451524fb",
   "metadata": {},
   "source": [
    "SELECT TopSpeed, Range, efficiency, FastCharge\n",
    "FROM evCars\n",
    "LIMIT 10"
   ]
  },
  {
   "cell_type": "markdown",
   "id": "f4f25d5e",
   "metadata": {},
   "source": [
    "SELECT TopSpeed  FROM evCars;"
   ]
  },
  {
   "cell_type": "markdown",
   "id": "a3ae0ff4",
   "metadata": {},
   "source": [
    "SELECT TopSpeed, RTRIM(TopSpeed, 'km/h')\n",
    "FROM evCars"
   ]
  },
  {
   "cell_type": "markdown",
   "id": "5900f5ce",
   "metadata": {},
   "source": [
    "UPDATE evCars\n",
    "SET TopSpeed = RTRIM(TopSpeed, 'km/h')"
   ]
  },
  {
   "cell_type": "markdown",
   "id": "7645d62f",
   "metadata": {},
   "source": [
    "SELECT TopSpeed FROM evCars;"
   ]
  },
  {
   "cell_type": "markdown",
   "id": "6f4558ea",
   "metadata": {},
   "source": [
    "SELECT TopSpeed, ROUND(TopSpeed * 0.621371, 1) \n",
    "FROM evCars"
   ]
  },
  {
   "cell_type": "markdown",
   "id": "2d52c6ae",
   "metadata": {},
   "source": [
    "UPDATE evCars\n",
    "SET TopSpeed = TopSpeed * 0.621371"
   ]
  },
  {
   "cell_type": "markdown",
   "id": "2116153a",
   "metadata": {},
   "source": [
    "ALTER TABLE evCars\n",
    "RENAME TopSpeed TO TopSpeedMPH"
   ]
  },
  {
   "cell_type": "markdown",
   "id": "411f2042",
   "metadata": {},
   "source": [
    "SELECT ROUND(TopSpeedMPH, 1)\n",
    "FROM evCars"
   ]
  },
  {
   "cell_type": "markdown",
   "id": "114ae40c",
   "metadata": {},
   "source": [
    "SELECT *\n",
    "FROM evCars"
   ]
  },
  {
   "cell_type": "markdown",
   "id": "cb37f332",
   "metadata": {},
   "source": [
    "UPDATE evCars\n",
    "SET\t\n",
    "\tTopSpeedMPH = ROUND(TopSpeedMPH, 1)"
   ]
  },
  {
   "cell_type": "markdown",
   "id": "d3570233",
   "metadata": {},
   "source": [
    "SELECT *\n",
    "FROM evCars"
   ]
  },
  {
   "cell_type": "markdown",
   "id": "b86fc523",
   "metadata": {},
   "source": [
    "SELECT Range FROM evCars"
   ]
  },
  {
   "cell_type": "markdown",
   "id": "0f8d28d1",
   "metadata": {},
   "source": [
    "SELECT Range, RTRIM(Range, 'km')\n",
    "FROM evCars"
   ]
  },
  {
   "cell_type": "markdown",
   "id": "bde2e901",
   "metadata": {},
   "source": [
    "UPDATE evCars\n",
    "SET Range = RTRIM(Range, 'km')"
   ]
  },
  {
   "cell_type": "markdown",
   "id": "4194125e",
   "metadata": {},
   "source": [
    "UPDATE evCars\n",
    "SET Range = ROUND(Range * 0.621371, 1)"
   ]
  },
  {
   "cell_type": "markdown",
   "id": "6f63d304",
   "metadata": {},
   "source": [
    "ALTER TABLE evCars\n",
    "RENAME Range TO rangeMiles"
   ]
  },
  {
   "cell_type": "markdown",
   "id": "1fce0cb1",
   "metadata": {},
   "source": [
    "SELECT Efficiency, FastCharge\n",
    "FROM evCars"
   ]
  },
  {
   "cell_type": "markdown",
   "id": "d1eb0bc4",
   "metadata": {},
   "source": [
    "UPDATE evCars\n",
    "SET Efficiency = RTRIM(Efficiency, 'Wh/km')\n"
   ]
  },
  {
   "cell_type": "markdown",
   "id": "2a850f32",
   "metadata": {},
   "source": [
    "UPDATE evCars\n",
    "SET FastCharge = RTRIM(FastCharge, 'km/h')"
   ]
  },
  {
   "cell_type": "markdown",
   "id": "f0478443",
   "metadata": {},
   "source": [
    "SELECT *\n",
    "FROM evCars"
   ]
  },
  {
   "cell_type": "markdown",
   "id": "68d47058",
   "metadata": {},
   "source": [
    "ALTER TABLE evCars\n",
    "RENAME FastCharge TO OneHourFastChargesMiles"
   ]
  },
  {
   "cell_type": "markdown",
   "id": "7d8d002a",
   "metadata": {},
   "source": [
    "ALTER TABLE evCars\n",
    "RENAME Efficiency TO efficiencyWHperKM"
   ]
  },
  {
   "cell_type": "markdown",
   "id": "85fbaa45",
   "metadata": {},
   "source": [
    "SELECT *\n",
    "FROM evCars"
   ]
  },
  {
   "cell_type": "markdown",
   "id": "a83d0aff",
   "metadata": {},
   "source": [
    "UPDATE evCars\n",
    "SET RapidCharge = REPLACE(RapidCharge, 'Rapid charging possible', 'YES')"
   ]
  },
  {
   "cell_type": "markdown",
   "id": "ade1d7fe",
   "metadata": {},
   "source": [
    "SELECT PowerTrain, COUNT(*) FROM  evCars\n",
    "GROUP BY PowerTrain"
   ]
  },
  {
   "cell_type": "markdown",
   "id": "77b671b1",
   "metadata": {},
   "source": [
    "UPDATE evCars\n",
    "SET PowerTrain = 'AWD'\n",
    "WHERE PowerTrain = 'All Wheel Drive'"
   ]
  },
  {
   "cell_type": "markdown",
   "id": "8161fa6f",
   "metadata": {},
   "source": [
    "Update evCars\n",
    "SET PowerTrain = 'RWD'\n",
    "WHERE PowerTrain = 'Rear Wheel Drive'"
   ]
  },
  {
   "cell_type": "markdown",
   "id": "52f462b1",
   "metadata": {},
   "source": [
    "UPDATE evCars\n",
    "SET PowerTrain = 'FWD'\n",
    "WHERE PowerTrain = 'Front Wheel Drive'"
   ]
  },
  {
   "cell_type": "markdown",
   "id": "61f6470f",
   "metadata": {},
   "source": [
    "SELECT PowerTrain, COUNT(*) FROM  evCars\n",
    "GROUP BY PowerTrain"
   ]
  },
  {
   "cell_type": "markdown",
   "id": "465506c0",
   "metadata": {},
   "source": [
    "SELECT PriceEuro, ROUND(PriceEuro * 1.09, 2) \n",
    "FROM evCars"
   ]
  },
  {
   "cell_type": "markdown",
   "id": "5faecea8",
   "metadata": {},
   "source": [
    "UPDATE evCars\n",
    "SET PriceEuro = PriceEuro * 1.09"
   ]
  },
  {
   "cell_type": "markdown",
   "id": "6dd5c167",
   "metadata": {},
   "source": [
    "ALTER TABLE evCars\n",
    "RENAME PriceEuro TO PriceUSD"
   ]
  }
 ],
 "metadata": {
  "language_info": {
   "name": "python"
  }
 },
 "nbformat": 4,
 "nbformat_minor": 5
}
