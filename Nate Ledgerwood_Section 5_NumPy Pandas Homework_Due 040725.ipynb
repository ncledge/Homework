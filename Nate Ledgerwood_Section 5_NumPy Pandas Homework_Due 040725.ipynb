{
 "cells": [
  {
   "cell_type": "markdown",
   "metadata": {},
   "source": [
    "# Python Homework (NumPy, Pandas)\n",
    "\n",
    "<br>\n",
    "\n",
    "1. What does Pandas stand for?\n",
    "    - Panel Data or Python Data Analysis\n",
    "2. What are the 2 collections used in Pandas?\n",
    "    - Series and DataFrames\n",
    "3. Name 4 things Pandas can do for us.\n",
    "    - Data Fill\n",
    "    - Merges and Joins\n",
    "    - Statistical Analysis\n",
    "    - Loading and Saving Data    \n",
    "4. To permanently sort a DataFrame, which keyword should one use with the `df.sort()` method?\n",
    "    - inplace=True\n",
    "5. What is a CSV?\n",
    "    - comma separated values file\n",
    "    - CSV files contains plain text and is a well know format that can be read by everyone including Pandas.\n",
    "6. When cleaning data what values do we not like in our data?\n",
    "    - Null Values (use '.fillna()')"
   ]
  },
  {
   "cell_type": "markdown",
   "metadata": {},
   "source": [
    "7. Import NumPy, use one of the NumPy methods and create an array with a shape of (2, 3, 2). You can use the reshape method -- `.reshape()`"
   ]
  },
  {
   "cell_type": "code",
   "execution_count": 14,
   "metadata": {},
   "outputs": [
    {
     "name": "stdout",
     "output_type": "stream",
     "text": [
      "[[[ 0  1]\n",
      "  [ 2  3]\n",
      "  [ 4  5]]\n",
      "\n",
      " [[ 6  7]\n",
      "  [ 8  9]\n",
      "  [10 11]]]\n"
     ]
    }
   ],
   "source": [
    "import numpy as np\n",
    "array1 = np.arange(12).reshape(2, 3, 2)\n",
    "print(array1)"
   ]
  },
  {
   "cell_type": "markdown",
   "metadata": {},
   "source": [
    "8. Use NumPy `.linspace()` to create an array with 6 linearly spaced values between 0 and 20"
   ]
  },
  {
   "cell_type": "code",
   "execution_count": 22,
   "metadata": {},
   "outputs": [
    {
     "name": "stdout",
     "output_type": "stream",
     "text": [
      "[ 0.  4.  8. 12. 16. 20.]\n"
     ]
    }
   ],
   "source": [
    "array2 = np.linspace(0, 20, 6)\n",
    "print(array2)\n"
   ]
  },
  {
   "cell_type": "markdown",
   "metadata": {},
   "source": [
    "9. Make a Deep Copy of the above array"
   ]
  },
  {
   "cell_type": "code",
   "execution_count": 27,
   "metadata": {},
   "outputs": [],
   "source": [
    "import copy\n",
    "array3 = copy.deepcopy(array2)"
   ]
  },
  {
   "cell_type": "markdown",
   "metadata": {},
   "source": [
    "10. Concatenate these 3 arrays into a new array named 'newArray'...\n",
    "    ```python\n",
    "            ([[25, 16]])\n",
    "            ([[11, 2], [13, 4]])\n",
    "            ([[7, 81], [5, 6], [11, 12]])\n",
    "    ```"
   ]
  },
  {
   "cell_type": "code",
   "execution_count": 64,
   "metadata": {},
   "outputs": [
    {
     "name": "stdout",
     "output_type": "stream",
     "text": [
      "[[25 16]\n",
      " [11  2]\n",
      " [13  4]\n",
      " [ 7 81]\n",
      " [ 5  6]\n",
      " [11 12]]\n"
     ]
    }
   ],
   "source": [
    "a = np.array([[25, 16]])\n",
    "b = np.array([[11, 2], [13, 4]])\n",
    "c = np.array([[7, 81], [5, 6], [11, 12]])\n",
    "\n",
    "newArray = np.concatenate((a, b, c), axis=0)\n",
    "print(newArray)"
   ]
  },
  {
   "cell_type": "markdown",
   "metadata": {},
   "source": [
    "11. Sort 'newArray' in order into 'sortedArray'"
   ]
  },
  {
   "cell_type": "code",
   "execution_count": 106,
   "metadata": {},
   "outputs": [
    {
     "name": "stdout",
     "output_type": "stream",
     "text": [
      "[[ 5  2]\n",
      " [ 7  4]\n",
      " [11  6]\n",
      " [11 12]\n",
      " [13 16]\n",
      " [25 81]]\n"
     ]
    }
   ],
   "source": [
    "sortedArray = np.sort(newArray, axis=0)\n",
    "print(sortedArray)"
   ]
  },
  {
   "cell_type": "markdown",
   "metadata": {},
   "source": [
    "12. Unpack the array tuples from the above 'reshapedArray'  into 4 well named variables. Print the 4 variables."
   ]
  },
  {
   "cell_type": "code",
   "execution_count": 107,
   "metadata": {},
   "outputs": [
    {
     "name": "stdout",
     "output_type": "stream",
     "text": [
      "a =  [5 2] [7 4]\n",
      "c =  [11  6] [11 12]\n",
      "e =  [13 16]\n",
      "f =  [25 81]\n"
     ]
    }
   ],
   "source": [
    "a, b, c, d, e, f = sortedArray\n",
    "print('a = ', a, b)\n",
    "print('c = ', c, d)\n",
    "print('e = ', e)\n",
    "print('f = ', f)"
   ]
  },
  {
   "cell_type": "markdown",
   "metadata": {},
   "source": [
    "13. Combined and sort the following arrays into one called 'comboArray' ...\n",
    "\n",
    "    ```python\n",
    "        one = ([10, 11, 12, 13, 14, 15, 16, 17])\n",
    "        two = ([20, 21, 22, 23, 24, 25, 26, 27])\n",
    "        three = ([ 0, 1, 2, 3, 4, 5, 6, 7])\n",
    "    ```"
   ]
  },
  {
   "cell_type": "code",
   "execution_count": 4,
   "metadata": {},
   "outputs": [
    {
     "name": "stdout",
     "output_type": "stream",
     "text": [
      "[ 0  1  2  3  4  5  6  7 10 11 12 13 14 15 16 17 20 21 22 23 24 25 26 27]\n"
     ]
    }
   ],
   "source": [
    "import numpy as np\n",
    "a = np.array([10, 11, 12, 13, 14, 15, 16, 17])\n",
    "b = np.array([20, 21, 22, 23, 24, 25, 26, 27])\n",
    "c = np.array([ 0, 1, 2, 3, 4, 5, 6, 7])\n",
    "\n",
    "comboArray = np.concatenate((a, b, c))\n",
    "comboArray = np.sort(comboArray)\n",
    "print(comboArray)"
   ]
  },
  {
   "cell_type": "markdown",
   "metadata": {},
   "source": [
    "14. Take 'comboArray' and perform the following slicing activities:\n",
    "    - print sec1 - the 2nd element\n",
    "    - print sec2 - all elements from the 3rd element to the last\n",
    "    - print sec3 - all elements from the 4th to the 14th elements\n",
    "    - print sec4 - the last 6 elements\n",
    "    - print sec5 - all element from #0 up to and including #15, using the negative number method, i.e. taking a section from the end.\n",
    "    - print sec6 - from #20 every even element to the end\n",
    "    - print sec7 - from the last element moving forward, every 5th element."
   ]
  },
  {
   "cell_type": "code",
   "execution_count": 11,
   "metadata": {},
   "outputs": [
    {
     "name": "stdout",
     "output_type": "stream",
     "text": [
      "1\n",
      "[ 2  3  4  5  6  7 10 11 12 13 14 15 16 17 20 21 22 23 24 25 26 27]\n",
      "[ 3  4  5  6  7 10 11 12 13 14 15]\n",
      "[22 23 24 25 26 27]\n",
      "[ 0  1  2  3  4  5  6  7 10 11 12 13 14]\n",
      "[20 22 24 26]\n",
      "[27 22 15 10  3]\n"
     ]
    }
   ],
   "source": [
    "print(comboArray[1])\n",
    "print(comboArray[2::])\n",
    "print(comboArray[3:14])\n",
    "print(comboArray[-6:])\n",
    "print(comboArray[:-11])\n",
    "print(comboArray[-8::2])\n",
    "print(comboArray[::-5])\n"
   ]
  },
  {
   "cell_type": "markdown",
   "metadata": {},
   "source": [
    "## **sec7** ABOVE should read \"Backward\" Correct?"
   ]
  },
  {
   "cell_type": "code",
   "execution_count": null,
   "metadata": {},
   "outputs": [],
   "source": [
    "15. Using `Series`, create a `DataFrame` that looks like this:\n",
    "\n",
    "    | Ingredients | Quantity | Unit |\n",
    "    |----|----|----|\n",
    "    | Flour | 4 | cups |\n",
    "    | Milk | 1 | cup |\n",
    "    | Eggs | 2 | large |\n",
    "    | Spam | 1 | can |\n",
    "\n",
    "    Name: Dinner, dtype: object"
   ]
  },
  {
   "cell_type": "code",
   "execution_count": null,
   "metadata": {},
   "outputs": [
    {
     "name": "stdout",
     "output_type": "stream",
     "text": [
      "  Ingredients  Quantity   Unit\n",
      "0       Flour         4   cups\n",
      "1        Milk         1    cup\n",
      "2        Eggs         2  large\n",
      "3        Spam         1    can\n"
     ]
    }
   ],
   "source": [
    "ing = pd.Series(['Flour', 'Milk', 'Eggs', 'Spam'])\n",
    "qty = pd.Series([4,1,2,1])\n",
    "unt = pd.Series(['cups', 'cup', 'large', 'can'])\n",
    "\n",
    "df = pd.DataFrame({'Ingredients': ing, 'Quantity': qty, 'Unit': unt})\n",
    "df.name = 'Recipe'\n",
    "df"
   ]
  },
  {
   "cell_type": "markdown",
   "metadata": {},
   "source": [
    "16. Take this data and create a DataFrame named studentData\n",
    "    ```Python\n",
    "        {'Name': ['Jai', 'janusha', 'Gaurav', 'Anuj'],\n",
    "            'Height': [5.1, 6.2, 5.1, 5.2],\n",
    "            'Qualification': ['Msc', 'MA', 'Msc', 'Msc'],\n",
    "            'address': ['Delhi', 'Doha', 'Chennai', 'Dakhar'],\n",
    "            'Age': [21, 23, 24, 21],\n",
    "            'Pets': ['Dog', 'Bunny', 'Chinchilla', 'Parrot'],\n",
    "            'sport': ['Darts', 'Basketball', 'PaddleBoarding', 'Cricket']\n",
    "        }\n",
    "    ```"
   ]
  },
  {
   "cell_type": "code",
   "execution_count": 145,
   "metadata": {},
   "outputs": [
    {
     "data": {
      "text/html": [
       "<div>\n",
       "<style scoped>\n",
       "    .dataframe tbody tr th:only-of-type {\n",
       "        vertical-align: middle;\n",
       "    }\n",
       "\n",
       "    .dataframe tbody tr th {\n",
       "        vertical-align: top;\n",
       "    }\n",
       "\n",
       "    .dataframe thead th {\n",
       "        text-align: right;\n",
       "    }\n",
       "</style>\n",
       "<table border=\"1\" class=\"dataframe\">\n",
       "  <thead>\n",
       "    <tr style=\"text-align: right;\">\n",
       "      <th></th>\n",
       "      <th>Name</th>\n",
       "      <th>Height</th>\n",
       "      <th>Qualification</th>\n",
       "      <th>address</th>\n",
       "      <th>Age</th>\n",
       "      <th>Pets</th>\n",
       "      <th>sport</th>\n",
       "    </tr>\n",
       "  </thead>\n",
       "  <tbody>\n",
       "    <tr>\n",
       "      <th>0</th>\n",
       "      <td>Jai</td>\n",
       "      <td>5.1</td>\n",
       "      <td>Msc</td>\n",
       "      <td>Delhi</td>\n",
       "      <td>21</td>\n",
       "      <td>Dog</td>\n",
       "      <td>Darts</td>\n",
       "    </tr>\n",
       "    <tr>\n",
       "      <th>1</th>\n",
       "      <td>janusha</td>\n",
       "      <td>6.2</td>\n",
       "      <td>MA</td>\n",
       "      <td>Doha</td>\n",
       "      <td>23</td>\n",
       "      <td>Bunny</td>\n",
       "      <td>Basketball</td>\n",
       "    </tr>\n",
       "    <tr>\n",
       "      <th>2</th>\n",
       "      <td>Gaurav</td>\n",
       "      <td>5.1</td>\n",
       "      <td>Msc</td>\n",
       "      <td>Chennai</td>\n",
       "      <td>24</td>\n",
       "      <td>Chinchilla</td>\n",
       "      <td>PaddleBoarding</td>\n",
       "    </tr>\n",
       "    <tr>\n",
       "      <th>3</th>\n",
       "      <td>Anuj</td>\n",
       "      <td>5.2</td>\n",
       "      <td>Msc</td>\n",
       "      <td>Dakhar</td>\n",
       "      <td>21</td>\n",
       "      <td>Parrot</td>\n",
       "      <td>Cricket</td>\n",
       "    </tr>\n",
       "  </tbody>\n",
       "</table>\n",
       "</div>"
      ],
      "text/plain": [
       "      Name  Height Qualification  address  Age        Pets           sport\n",
       "0      Jai     5.1           Msc    Delhi   21         Dog           Darts\n",
       "1  janusha     6.2            MA     Doha   23       Bunny      Basketball\n",
       "2   Gaurav     5.1           Msc  Chennai   24  Chinchilla  PaddleBoarding\n",
       "3     Anuj     5.2           Msc   Dakhar   21      Parrot         Cricket"
      ]
     },
     "execution_count": 145,
     "metadata": {},
     "output_type": "execute_result"
    }
   ],
   "source": [
    "data = {'Name': ['Jai', 'janusha', 'Gaurav', 'Anuj'],\n",
    "            'Height': [5.1, 6.2, 5.1, 5.2],\n",
    "            'Qualification': ['Msc', 'MA', 'Msc', 'Msc'],\n",
    "            'address': ['Delhi', 'Doha', 'Chennai', 'Dakhar'],\n",
    "            'Age': [21, 23, 24, 21],\n",
    "            'Pets': ['Dog', 'Bunny', 'Chinchilla', 'Parrot'],\n",
    "            'sport': ['Darts', 'Basketball', 'PaddleBoarding', 'Cricket']\n",
    "        }\n",
    "df = pd.DataFrame(data)\n",
    "df.name = 'studentData'\n",
    "df"
   ]
  },
  {
   "cell_type": "markdown",
   "metadata": {},
   "source": [
    "17. Add a new column to the DataFrame with the following deserts:\n",
    "       17. Add a new column to the DataFrame with the following deserts:\n",
    "        [\"ice cream\", \"Cashew Fudge\", \"waffels\", \"Carrot Halwa\"]"
   ]
  },
  {
   "cell_type": "code",
   "execution_count": 148,
   "metadata": {},
   "outputs": [
    {
     "data": {
      "text/html": [
       "<div>\n",
       "<style scoped>\n",
       "    .dataframe tbody tr th:only-of-type {\n",
       "        vertical-align: middle;\n",
       "    }\n",
       "\n",
       "    .dataframe tbody tr th {\n",
       "        vertical-align: top;\n",
       "    }\n",
       "\n",
       "    .dataframe thead th {\n",
       "        text-align: right;\n",
       "    }\n",
       "</style>\n",
       "<table border=\"1\" class=\"dataframe\">\n",
       "  <thead>\n",
       "    <tr style=\"text-align: right;\">\n",
       "      <th></th>\n",
       "      <th>Name</th>\n",
       "      <th>Height</th>\n",
       "      <th>Qualification</th>\n",
       "      <th>address</th>\n",
       "      <th>Age</th>\n",
       "      <th>Pets</th>\n",
       "      <th>sport</th>\n",
       "      <th>Food</th>\n",
       "    </tr>\n",
       "  </thead>\n",
       "  <tbody>\n",
       "    <tr>\n",
       "      <th>0</th>\n",
       "      <td>Jai</td>\n",
       "      <td>5.1</td>\n",
       "      <td>Msc</td>\n",
       "      <td>Delhi</td>\n",
       "      <td>21</td>\n",
       "      <td>Dog</td>\n",
       "      <td>Darts</td>\n",
       "      <td>ice cream</td>\n",
       "    </tr>\n",
       "    <tr>\n",
       "      <th>1</th>\n",
       "      <td>janusha</td>\n",
       "      <td>6.2</td>\n",
       "      <td>MA</td>\n",
       "      <td>Doha</td>\n",
       "      <td>23</td>\n",
       "      <td>Bunny</td>\n",
       "      <td>Basketball</td>\n",
       "      <td>Cashew Fudge</td>\n",
       "    </tr>\n",
       "    <tr>\n",
       "      <th>2</th>\n",
       "      <td>Gaurav</td>\n",
       "      <td>5.1</td>\n",
       "      <td>Msc</td>\n",
       "      <td>Chennai</td>\n",
       "      <td>24</td>\n",
       "      <td>Chinchilla</td>\n",
       "      <td>PaddleBoarding</td>\n",
       "      <td>waffels</td>\n",
       "    </tr>\n",
       "    <tr>\n",
       "      <th>3</th>\n",
       "      <td>Anuj</td>\n",
       "      <td>5.2</td>\n",
       "      <td>Msc</td>\n",
       "      <td>Dakhar</td>\n",
       "      <td>21</td>\n",
       "      <td>Parrot</td>\n",
       "      <td>Cricket</td>\n",
       "      <td>Carrot Halwa</td>\n",
       "    </tr>\n",
       "  </tbody>\n",
       "</table>\n",
       "</div>"
      ],
      "text/plain": [
       "      Name  Height Qualification  address  Age        Pets           sport  \\\n",
       "0      Jai     5.1           Msc    Delhi   21         Dog           Darts   \n",
       "1  janusha     6.2            MA     Doha   23       Bunny      Basketball   \n",
       "2   Gaurav     5.1           Msc  Chennai   24  Chinchilla  PaddleBoarding   \n",
       "3     Anuj     5.2           Msc   Dakhar   21      Parrot         Cricket   \n",
       "\n",
       "           Food  \n",
       "0     ice cream  \n",
       "1  Cashew Fudge  \n",
       "2       waffels  \n",
       "3  Carrot Halwa  "
      ]
     },
     "execution_count": 148,
     "metadata": {},
     "output_type": "execute_result"
    }
   ],
   "source": [
    "df['Food'] = [\"ice cream\", \"Cashew Fudge\", \"waffels\", \"Carrot Halwa\"]\n",
    "df"
   ]
  },
  {
   "cell_type": "markdown",
   "metadata": {},
   "source": [
    "18. Sort the 'studentData' DataFrame in Ascending order -- Sorting by column 'Name' and then \"address\""
   ]
  },
  {
   "cell_type": "code",
   "execution_count": 155,
   "metadata": {},
   "outputs": [
    {
     "data": {
      "text/html": [
       "<div>\n",
       "<style scoped>\n",
       "    .dataframe tbody tr th:only-of-type {\n",
       "        vertical-align: middle;\n",
       "    }\n",
       "\n",
       "    .dataframe tbody tr th {\n",
       "        vertical-align: top;\n",
       "    }\n",
       "\n",
       "    .dataframe thead th {\n",
       "        text-align: right;\n",
       "    }\n",
       "</style>\n",
       "<table border=\"1\" class=\"dataframe\">\n",
       "  <thead>\n",
       "    <tr style=\"text-align: right;\">\n",
       "      <th></th>\n",
       "      <th>Name</th>\n",
       "      <th>Height</th>\n",
       "      <th>Qualification</th>\n",
       "      <th>address</th>\n",
       "      <th>Age</th>\n",
       "      <th>Pets</th>\n",
       "      <th>sport</th>\n",
       "      <th>Food</th>\n",
       "    </tr>\n",
       "  </thead>\n",
       "  <tbody>\n",
       "    <tr>\n",
       "      <th>3</th>\n",
       "      <td>Anuj</td>\n",
       "      <td>5.2</td>\n",
       "      <td>Msc</td>\n",
       "      <td>Dakhar</td>\n",
       "      <td>21</td>\n",
       "      <td>Parrot</td>\n",
       "      <td>Cricket</td>\n",
       "      <td>Carrot Halwa</td>\n",
       "    </tr>\n",
       "    <tr>\n",
       "      <th>2</th>\n",
       "      <td>Gaurav</td>\n",
       "      <td>5.1</td>\n",
       "      <td>Msc</td>\n",
       "      <td>Chennai</td>\n",
       "      <td>24</td>\n",
       "      <td>Chinchilla</td>\n",
       "      <td>PaddleBoarding</td>\n",
       "      <td>waffels</td>\n",
       "    </tr>\n",
       "    <tr>\n",
       "      <th>0</th>\n",
       "      <td>Jai</td>\n",
       "      <td>5.1</td>\n",
       "      <td>Msc</td>\n",
       "      <td>Delhi</td>\n",
       "      <td>21</td>\n",
       "      <td>Dog</td>\n",
       "      <td>Darts</td>\n",
       "      <td>ice cream</td>\n",
       "    </tr>\n",
       "    <tr>\n",
       "      <th>1</th>\n",
       "      <td>janusha</td>\n",
       "      <td>6.2</td>\n",
       "      <td>MA</td>\n",
       "      <td>Doha</td>\n",
       "      <td>23</td>\n",
       "      <td>Bunny</td>\n",
       "      <td>Basketball</td>\n",
       "      <td>Cashew Fudge</td>\n",
       "    </tr>\n",
       "  </tbody>\n",
       "</table>\n",
       "</div>"
      ],
      "text/plain": [
       "      Name  Height Qualification  address  Age        Pets           sport  \\\n",
       "3     Anuj     5.2           Msc   Dakhar   21      Parrot         Cricket   \n",
       "2   Gaurav     5.1           Msc  Chennai   24  Chinchilla  PaddleBoarding   \n",
       "0      Jai     5.1           Msc    Delhi   21         Dog           Darts   \n",
       "1  janusha     6.2            MA     Doha   23       Bunny      Basketball   \n",
       "\n",
       "           Food  \n",
       "3  Carrot Halwa  \n",
       "2       waffels  \n",
       "0     ice cream  \n",
       "1  Cashew Fudge  "
      ]
     },
     "execution_count": 155,
     "metadata": {},
     "output_type": "execute_result"
    }
   ],
   "source": [
    "df.sort_values(by = ['Name', 'address'],\n",
    "                ascending = True)"
   ]
  },
  {
   "cell_type": "markdown",
   "metadata": {},
   "source": [
    "19. Save this `DataFrame` here below to disc as a `.CSV` file with the name `cows_and_goats.csv`:\n",
    "\n",
    "    ```python\n",
    "        df = pd.DataFrame({'Cows': [12, 20], 'Goats': [22, 19]}, index=['Year 1', 'Year 2'])\n",
    "    ```"
   ]
  },
  {
   "cell_type": "code",
   "execution_count": 162,
   "metadata": {},
   "outputs": [],
   "source": [
    "df = pd.DataFrame({'Cows': [12, 20], 'Goats': [22, 19]}, index=['Year 1', 'Year 2'])\n",
    "df.to_csv(r'df.csv')"
   ]
  },
  {
   "cell_type": "markdown",
   "metadata": {},
   "source": [
    "20. (A) Using Pandas, make your own .CSV file with data on vegetables and save it. (B) Using Pandas, make a change to your CSV file, and save a copy with a different name."
   ]
  },
  {
   "cell_type": "code",
   "execution_count": 171,
   "metadata": {},
   "outputs": [],
   "source": [
    "vegs = ['brocolli', 'onion', 'garlic']\n",
    "df = pd.DataFrame(vegs)\n",
    "df.to_csv(r'df2.csv')\n"
   ]
  },
  {
   "cell_type": "code",
   "execution_count": 202,
   "metadata": {},
   "outputs": [],
   "source": [
    "df = pd.read_csv(r'df2.csv')\n",
    "df.sort_values\n",
    "df.to_csv(r'df3.csv')"
   ]
  }
 ],
 "metadata": {
  "kernelspec": {
   "display_name": "Python 3",
   "language": "python",
   "name": "python3"
  },
  "language_info": {
   "codemirror_mode": {
    "name": "ipython",
    "version": 3
   },
   "file_extension": ".py",
   "mimetype": "text/x-python",
   "name": "python",
   "nbconvert_exporter": "python",
   "pygments_lexer": "ipython3",
   "version": "3.13.2"
  }
 },
 "nbformat": 4,
 "nbformat_minor": 2
}
