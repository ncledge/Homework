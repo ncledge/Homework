{
 "cells": [
  {
   "cell_type": "code",
   "execution_count": null,
   "metadata": {},
   "outputs": [],
   "source": [
    "# Python Homework (Data Types)\n",
    "\n",
    "## Data Types:\n",
    "\n",
    "1. What is an algorithm?\n",
    "    - An algorithm is a series of steps to solve a problem at hand\n",
    "2. Variable names may not start with certain characters - name two.\n",
    "    - A variable name must start with a letter or the underscore character (`_`)\n",
    "    - A variable name cannot start with a number.\n",
    "    - A variable name can only contain alpha-numeric characters and underscores (A-z, 0-9, and _ )\n",
    "    - Variable names are case-sensitive (age, Age and AGE are three different variables)\n",
    "3. What is a Semantic error?\n",
    "    - A semantic error is a logical error in the program where the code runs without crashing but produces incorrect results.\n",
    "4. What is the #1 rule of coding / debugging?\n",
    "    - The #1 rule of coding / debugging is to read the error messages carefully. They often provide clues about what went wrong and where to look in the code.\n",
    "    - Complexity is the enemy of efficiency!\n",
    "5. List 5 Python reserved words.\n",
    "    - `FALSE`, `TRUE`, `pass`, `None`, `else`\n"
   ]
  },
  {
   "cell_type": "code",
   "execution_count": 6,
   "metadata": {},
   "outputs": [
    {
     "name": "stdout",
     "output_type": "stream",
     "text": [
      "\n",
      "Nate Ledgerwood\n",
      "Pizza\n",
      "Data Analyst\n",
      "\n"
     ]
    }
   ],
   "source": [
    "#  Write a multi-line string with your name, favorite food, and dream job on 3 different lines\n",
    "\"\"\"\n",
    "Nate Ledgerwood\n",
    "Pizza\n",
    "Data Analyst\n",
    "\"\"\"\n",
    "print(multi)\n"
   ]
  },
  {
   "cell_type": "code",
   "execution_count": 23,
   "metadata": {},
   "outputs": [
    {
     "name": "stdout",
     "output_type": "stream",
     "text": [
      "15\n",
      "e\n"
     ]
    }
   ],
   "source": [
    "# Assign 5 different data types to 5 different variables. At least one datatype must be a string  \n",
    "name = 'Nate Ledgerwood'    # String \n",
    "age = 25                    # Integer\n",
    "height = 6.0                # Float\n",
    "bio = {\"name\" : \"Nate\", \"age\" : 25}   #dictionary\n",
    "hobbies = [\"learning\", \"exercising\", \"family\"]  # List\n",
    "print(len(name))\n",
    "print(name[3])"
   ]
  },
  {
   "cell_type": "code",
   "execution_count": 22,
   "metadata": {},
   "outputs": [
    {
     "name": "stdout",
     "output_type": "stream",
     "text": [
      "ing Data Analytics \n",
      "Learning Data Analytics and Python is great!\n",
      "Python is in the string!\n"
     ]
    }
   ],
   "source": [
    "#Create a new variable called savvy, and assign it the string with this phrase \"Learning Data Analytics and Python is Awesome!\"\n",
    "savvy = \"Learning Data Analytics and Python is Awesome!\"\n",
    "print(savvy[5:24])\n",
    "replace = savvy.replace(\"Awesome\", \"great\")\n",
    "print(replace)\n",
    "if \"Python\" in savvy:\n",
    "    print(\"Python is in the string!\")"
   ]
  },
  {
   "cell_type": "code",
   "execution_count": 46,
   "metadata": {},
   "outputs": [
    {
     "name": "stdout",
     "output_type": "stream",
     "text": [
      "Hi my name is Nate Ledgerwood, I am 6.0 and 25 old today.\n",
      "25.0\n"
     ]
    }
   ],
   "source": [
    "# Create and assign 3 more variables called name, age and length using the multi-variable naming method\n",
    "name = \"Nate Ledgerwood\"\n",
    "age = 25\n",
    "length = 6.0\n",
    "minibio = \"Hi my name is {}, I am {} and {} old today.\"\n",
    "print(minibio.format(name, length, age))\n",
    "age = float(age)\n",
    "print(age)"
   ]
  },
  {
   "cell_type": "code",
   "execution_count": 2,
   "metadata": {},
   "outputs": [
    {
     "name": "stdout",
     "output_type": "stream",
     "text": [
      "the size of the list is:  6\n",
      "['Python, Boa']\n",
      "[5, 4, 3, 2, 1]\n",
      "[5, 4, 3, 2, 1]\n",
      "[5, 4, 3, 2, 1, 5, 4, 3, 2, 1]\n"
     ]
    }
   ],
   "source": [
    "#10 Create a list of at least 5 elements of mixed data types\n",
    "mixed_List = ['Nate', 25, True, 9, [1,2,3]]\n",
    "mixed_List[1] = 45\n",
    "mixed_List.append(\"Python, Boa\")  \n",
    "listlength =len(mixed_List)\n",
    "print('the size of the list is: ', listlength)\n",
    "slice = mixed_List[5:6]\n",
    "mixed_List2 = slice\n",
    "print(mixed_List2)  \n",
    "mixed_List.extend(mixed_List2)\n",
    "simList = [1,2,3,4,5]\n",
    "simList.sort(reverse=True)\n",
    "print(simList)  \n",
    "List3 = simList.copy()\n",
    "print(List3)\n",
    "List4 = simList + List3\n",
    "print(List4)\n"
   ]
  },
  {
   "cell_type": "code",
   "execution_count": null,
   "metadata": {},
   "outputs": [],
   "source": [
    "#11/12 - No homework per Max on Sets or Tuples"
   ]
  },
  {
   "cell_type": "code",
   "execution_count": null,
   "metadata": {},
   "outputs": [
    {
     "name": "stdout",
     "output_type": "stream",
     "text": [
      "Nate\n",
      "dict_keys(['name', 'age', 'height', 'is_student', 'hobbies', 'favorite color', 'flag colors'])\n",
      "dict_values(['Nate', 'nate', 6.0, True, ['learning', 'exercising', 'family'], 'aqua', ['red', 'white', 'blue']])\n",
      "{'name': 'Nate', 'height': 6.0, 'is_student': True, 'hobbies': ['learning', 'exercising', 'family'], 'favorite color': 'aqua', 'flag colors': ['red', 'white', 'blue']}\n",
      "{}\n"
     ]
    }
   ],
   "source": [
    "#13 Create a dictionary with at least 5 values of different data types\n",
    "Dict = {\n",
    "    \"name\": \"Nate\",\n",
    "    \"age\": 25,\n",
    "    \"height\": 6.0,\n",
    "    \"is_student\": True,\n",
    "    \"hobbies\": [\"learning\", \"exercising\", \"family\"]\n",
    "}\n",
    "print(Dict[\"name\"])\n",
    "Dict.update({'age': 'nate'})\n",
    "Dict.update({'favorite color': 'aqua'})\n",
    "Dict.update({\"flag colors\": [\"red\", \"white\", \"blue\"]})\n",
    "print(Dict.keys())  \n",
    "print(Dict.values())\n",
    "Dict2 = Dict.copy()\n",
    "Dict2.pop(\"age\")\n",
    "print(Dict2)\n",
    "Dict2.clear()\n",
    "print(Dict2)  # should be empty now"
   ]
  }
 ],
 "metadata": {
  "kernelspec": {
   "display_name": "Python 3",
   "language": "python",
   "name": "python3"
  },
  "language_info": {
   "codemirror_mode": {
    "name": "ipython",
    "version": 3
   },
   "file_extension": ".py",
   "mimetype": "text/x-python",
   "name": "python",
   "nbconvert_exporter": "python",
   "pygments_lexer": "ipython3",
   "version": "3.13.2"
  }
 },
 "nbformat": 4,
 "nbformat_minor": 2
}
