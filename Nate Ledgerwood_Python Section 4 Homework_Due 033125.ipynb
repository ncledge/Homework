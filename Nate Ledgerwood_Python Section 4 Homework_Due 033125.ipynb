{
 "cells": [
  {
   "cell_type": "markdown",
   "metadata": {},
   "source": [
    "# **Nate Ledgerwood_Python Section 4 Homework_Due 033125**\n",
    "\n",
    "\n",
    "**<ins>Use markdown formatting for the following questions (e.g., bold lettering, bullet points, different font sizes, etc.)</ins>**:\n",
    "\n",
    "1. What does one need to do to use a module?\n",
    "    - import it into your program\n",
    "2. Name a Module (not the DateTime Module) we looked at and write a line or 2 of code as an example using this module."
   ]
  },
  {
   "cell_type": "code",
   "execution_count": 2,
   "metadata": {},
   "outputs": [
    {
     "name": "stdout",
     "output_type": "stream",
     "text": [
      "15.6\n"
     ]
    }
   ],
   "source": [
    "import math\n",
    "numlist = [1.3,1.9,4,8.4]\n",
    "print(math.fsum(numlist))"
   ]
  },
  {
   "cell_type": "markdown",
   "metadata": {},
   "source": [
    "3. What is a benefit of using Exception handling?\n",
    "    - When an error is raised in the try block, the except block will be executed. Without the try block, the program will crash.  With this code device we can keep going past many errors.\n",
    "4. What are the 4 components used for Python Exception Handling?\n",
    "    - try, except, else, finally\n",
    "5. NumPy arrays are like what Python data type?\n",
    "    - Lists\n",
    "6. What is one of the main benefits of using NumPy arrays?\n",
    "    - Occupy less memory \n",
    "    - Faster\n",
    "    - More convenient \n",
    "7. What is one of the main requirements about the 'dtype' of NumPy arrays?\n",
    "    - elements must be of the same data type.\n",
    "8. Of the 10 uses of NumPy, name 2.\n",
    "    - Copying & viewing arrays, Arithmetic operations\n",
    "9. Name one of the other libraries we'll use with NumPy?\n",
    "    - Pandas\n",
    "10. What is the shape of NumPy arrays?\n",
    "    - a tuple of non-negative integers that specify the dimensions, length and size of each array (3,2,4)\n",
    "11. What is a Tensor?\n",
    "    - an array with 3+ dimensions \n",
    "12. Name a reason why it's better using  NumPy for Data Analysis than using a Python List?\n",
    "    - the NumPy library built for the manipulation of multi-dimensional array data\n",
    "13. When creating an \"empty\" array, where do the elements come from?\n",
    "    - the function empty creates an array whose initial content is random and depends on the state of the memory.\n",
    "\n",
    "    <br>\n",
    "\n",
    "### Flow Control Methods:\n",
    "\n",
    "1. Create an if statement: if 'age' is greater than or equal to 25, print \"Renting a car is more affordable\", however if 'age' is less than 25, print \"Renting a car is very expensive.\""
   ]
  },
  {
   "cell_type": "code",
   "execution_count": 3,
   "metadata": {},
   "outputs": [
    {
     "name": "stdout",
     "output_type": "stream",
     "text": [
      "Renting a car is more affordable\n"
     ]
    }
   ],
   "source": [
    "age = 40\n",
    "if (age) >= 25:\n",
    "    print('Renting a car is more affordable')\n",
    "if (age) <= 25:\n",
    "    print('Renting a car is very expensive')"
   ]
  },
  {
   "cell_type": "markdown",
   "metadata": {},
   "source": [
    "2. Create and chain an if-else  statement: if 'age' is greater than or equal to 25, print \"Renting a car is more affordable.\" If 'age' is less than 25 but greater than or equal to 18, print \"Renting a car is very expensive.\" Finally, if age is less than 18, print \"You cannot legally rent a car.\""
   ]
  },
  {
   "cell_type": "code",
   "execution_count": 15,
   "metadata": {},
   "outputs": [
    {
     "name": "stdout",
     "output_type": "stream",
     "text": [
      "You cannot legally rent a car.\n"
     ]
    }
   ],
   "source": [
    "age = 16\n",
    "if (age) >= 25:\n",
    "    print('Renting a car is more affordable')\n",
    "elif (age) >= 18 <= 25:\n",
    "    print('Renting a car is very expensive')\n",
    "else:\n",
    "    print('You cannot legally rent a car.')"
   ]
  },
  {
   "cell_type": "markdown",
   "metadata": {},
   "source": [
    "3. Loop over the following string to (1) count all the characters in the string and (2) print out all the vowels -- \"The quick brown fox jumps over the lazy dog\""
   ]
  },
  {
   "cell_type": "code",
   "execution_count": 12,
   "metadata": {},
   "outputs": [
    {
     "name": "stdout",
     "output_type": "stream",
     "text": [
      "euioouoeeayo\n",
      "Total characters: 43\n"
     ]
    }
   ],
   "source": [
    "x = 'The quick brown fox jumps over the lazy dog'\n",
    "\n",
    "count = 0\n",
    "vowels = 'aeiouyAEIOUY'\n",
    "\n",
    "for char in (x):\n",
    "    count += 1\n",
    "    if char in vowels:\n",
    "        print(char, end='')\n",
    "\n",
    "print(f\"\\nTotal characters: {count}\")"
   ]
  },
  {
   "cell_type": "markdown",
   "metadata": {},
   "source": [
    "4. Write a nested loop that prints out every piece of clothing from the couture list, in every fashionable color from the panettone set: couture = [\"trousers\", \"blouse\", \"bandana\", \"cumber band\", \"blazer\", \"vest\", \"french beret\", \"scarf\", \"stole\"] and panettone = {\"cerise\", \"fuchsia\", \"aqua\", \"maple\", \"auburn\", \"burnt sienna\", \"gunmetal blue\", \"Dark Sapphire\"}"
   ]
  },
  {
   "cell_type": "code",
   "execution_count": 12,
   "metadata": {},
   "outputs": [
    {
     "name": "stdout",
     "output_type": "stream",
     "text": [
      "cerise trousers\n",
      "fuchsia trousers\n",
      "aqua trousers\n",
      "maple trousers\n",
      "auburn trousers\n",
      "burnt sienna trousers\n",
      "gunmetal blue trousers\n",
      "Dark Sapphire trousers\n",
      "cerise blouse\n",
      "fuchsia blouse\n",
      "aqua blouse\n",
      "maple blouse\n",
      "auburn blouse\n",
      "burnt sienna blouse\n",
      "gunmetal blue blouse\n",
      "Dark Sapphire blouse\n",
      "cerise bandana\n",
      "fuchsia bandana\n",
      "aqua bandana\n",
      "maple bandana\n",
      "auburn bandana\n",
      "burnt sienna bandana\n",
      "gunmetal blue bandana\n",
      "Dark Sapphire bandana\n",
      "cerise cumber band\n",
      "fuchsia cumber band\n",
      "aqua cumber band\n",
      "maple cumber band\n",
      "auburn cumber band\n",
      "burnt sienna cumber band\n",
      "gunmetal blue cumber band\n",
      "Dark Sapphire cumber band\n",
      "cerise blazer\n",
      "fuchsia blazer\n",
      "aqua blazer\n",
      "maple blazer\n",
      "auburn blazer\n",
      "burnt sienna blazer\n",
      "gunmetal blue blazer\n",
      "Dark Sapphire blazer\n",
      "cerise vest\n",
      "fuchsia vest\n",
      "aqua vest\n",
      "maple vest\n",
      "auburn vest\n",
      "burnt sienna vest\n",
      "gunmetal blue vest\n",
      "Dark Sapphire vest\n",
      "cerise french beret\n",
      "fuchsia french beret\n",
      "aqua french beret\n",
      "maple french beret\n",
      "auburn french beret\n",
      "burnt sienna french beret\n",
      "gunmetal blue french beret\n",
      "Dark Sapphire french beret\n",
      "cerise scarf\n",
      "fuchsia scarf\n",
      "aqua scarf\n",
      "maple scarf\n",
      "auburn scarf\n",
      "burnt sienna scarf\n",
      "gunmetal blue scarf\n",
      "Dark Sapphire scarf\n",
      "cerise stole\n",
      "fuchsia stole\n",
      "aqua stole\n",
      "maple stole\n",
      "auburn stole\n",
      "burnt sienna stole\n",
      "gunmetal blue stole\n",
      "Dark Sapphire stole\n"
     ]
    }
   ],
   "source": [
    "couture = [\"trousers\", \"blouse\", \"bandana\", \"cumber band\", \"blazer\", \"vest\", \"french beret\", \"scarf\", \"stole\"]\n",
    "panettone = [\"cerise\", \"fuchsia\", \"aqua\", \"maple\", \"auburn\", \"burnt sienna\", \"gunmetal blue\", \"Dark Sapphire\"]\n",
    "\n",
    "for x in couture:\n",
    "    for y in panettone:\n",
    "        print(y,x)\n"
   ]
  },
  {
   "cell_type": "markdown",
   "metadata": {},
   "source": [
    "5. Use range as a loop to calculate the sum of all the numbers from 1 to 100"
   ]
  },
  {
   "cell_type": "code",
   "execution_count": 10,
   "metadata": {},
   "outputs": [
    {
     "name": "stdout",
     "output_type": "stream",
     "text": [
      "Sum of numbers 1 to 100: 5050\n"
     ]
    }
   ],
   "source": [
    "total = 0\n",
    "for i in range(1, 101):  \n",
    "    total += i\n",
    "\n",
    "print(\"Sum of numbers 1 to 100:\", total)"
   ]
  },
  {
   "cell_type": "markdown",
   "metadata": {},
   "source": [
    "6.  Print the second item in this fruits list.\n",
    "    [\"apple\", \"banana\", \"cherry\"]"
   ]
  },
  {
   "cell_type": "code",
   "execution_count": 13,
   "metadata": {},
   "outputs": [
    {
     "name": "stdout",
     "output_type": "stream",
     "text": [
      "banana\n"
     ]
    }
   ],
   "source": [
    "fruits = [\"apple\", \"banana\", \"cherry\"]\n",
    "print(fruits[1])"
   ]
  },
  {
   "cell_type": "markdown",
   "metadata": {},
   "source": [
    "7. Change the value from \"apple\" to \"kiwi\", in the fruits list.\n",
    "    [\"apple\", \"banana\", \"cherry\"]"
   ]
  },
  {
   "cell_type": "code",
   "execution_count": null,
   "metadata": {},
   "outputs": [],
   "source": [
    "fruits = [\"apple\", \"banana\", \"cherry\"]\n",
    "fruits[0] = \"kiwi\"\n",
    "print(fruits)"
   ]
  },
  {
   "cell_type": "markdown",
   "metadata": {},
   "source": [
    "8. Use the append method to add \"orange\" to the fruits list.\n",
    "    [\"apple\", \"banana\", \"cherry\"]"
   ]
  },
  {
   "cell_type": "code",
   "execution_count": 16,
   "metadata": {},
   "outputs": [
    {
     "name": "stdout",
     "output_type": "stream",
     "text": [
      "['apple', 'banana', 'cherry', 'orange']\n"
     ]
    }
   ],
   "source": [
    "fruits = [\"apple\", \"banana\", \"cherry\"]\n",
    "fruits.append('orange')\n",
    "print(fruits)"
   ]
  },
  {
   "cell_type": "markdown",
   "metadata": {},
   "source": [
    "9. Use the insert method to add \"lemon\" as the second item in the fruits list.\n",
    "    [\"apple\", \"banana\", \"cherry\"]"
   ]
  },
  {
   "cell_type": "code",
   "execution_count": 20,
   "metadata": {},
   "outputs": [
    {
     "name": "stdout",
     "output_type": "stream",
     "text": [
      "['apple', 'lemon', 'banana', 'cherry']\n"
     ]
    }
   ],
   "source": [
    "fruits = [\"apple\", \"banana\", \"cherry\"]\n",
    "fruits.insert(1, \"lemon\")\n",
    "print(fruits)"
   ]
  },
  {
   "cell_type": "markdown",
   "metadata": {},
   "source": [
    "10. Use the remove method to remove \"banana\" from the fruits list.\n",
    "    [\"apple\", \"banana\", \"cherry\"]"
   ]
  },
  {
   "cell_type": "code",
   "execution_count": 31,
   "metadata": {},
   "outputs": [
    {
     "name": "stdout",
     "output_type": "stream",
     "text": [
      "['apple', 'cherry']\n"
     ]
    }
   ],
   "source": [
    "fruits = [\"apple\", \"banana\", \"cherry\"]\n",
    "fruits.remove('banana')\n",
    "print(fruits)    "
   ]
  },
  {
   "cell_type": "markdown",
   "metadata": {},
   "source": [
    "11. Use negative indexing to print the 3rd and 2nd to last items in the list.\n",
    "    [\"apple\", \"banana\", \"cherry\", \"orange\", \"kiwi\", \"melon\", \"mango\"]"
   ]
  },
  {
   "cell_type": "code",
   "execution_count": 43,
   "metadata": {},
   "outputs": [
    {
     "name": "stdout",
     "output_type": "stream",
     "text": [
      "kiwi melon\n"
     ]
    }
   ],
   "source": [
    "fruits = [\"apple\", \"banana\", \"cherry\", \"orange\", \"kiwi\", \"melon\", \"mango\"]\n",
    "print(fruits[-3], fruits[-2])"
   ]
  },
  {
   "cell_type": "markdown",
   "metadata": {},
   "source": [
    "12. Use a range of indexes to print the third, fourth, and fifth item in the list.\n",
    "    [\"apple\", \"banana\", \"cherry\", \"orange\", \"kiwi\", \"melon\", \"mango\"]"
   ]
  },
  {
   "cell_type": "code",
   "execution_count": 46,
   "metadata": {},
   "outputs": [
    {
     "name": "stdout",
     "output_type": "stream",
     "text": [
      "['cherry', 'orange', 'kiwi']\n"
     ]
    }
   ],
   "source": [
    "fruits = [\"apple\", \"banana\", \"cherry\", \"orange\", \"kiwi\", \"melon\", \"mango\"]\n",
    "print(fruits[2:5])"
   ]
  },
  {
   "cell_type": "markdown",
   "metadata": {},
   "source": [
    "13. Use the correct syntax to print the number of item in the list\n",
    "    [\"apple\", \"banana\", \"cherry\", \"orange\", \"kiwi\", \"melon\", \"mango\"]"
   ]
  },
  {
   "cell_type": "code",
   "execution_count": 48,
   "metadata": {},
   "outputs": [
    {
     "name": "stdout",
     "output_type": "stream",
     "text": [
      "7\n"
     ]
    }
   ],
   "source": [
    "fruits = [\"apple\", \"banana\", \"cherry\", \"orange\", \"kiwi\", \"melon\", \"mango\"]\n",
    "print(len(fruits))"
   ]
  },
  {
   "cell_type": "markdown",
   "metadata": {},
   "source": [
    "14. Use the correct syntax to sort this list in reverse order\n",
    "    [\"apple\", \"banana\", \"cherry\", \"orange\", \"kiwi\", \"melon\", \"mango\"]"
   ]
  },
  {
   "cell_type": "code",
   "execution_count": 24,
   "metadata": {},
   "outputs": [
    {
     "name": "stdout",
     "output_type": "stream",
     "text": [
      "['mango', 'melon', 'kiwi', 'orange', 'cherry', 'banana', 'apple']\n"
     ]
    }
   ],
   "source": [
    "fruits = [\"apple\", \"banana\", \"cherry\", \"orange\", \"kiwi\", \"melon\", \"mango\"]\n",
    "fruits.reverse()\n",
    "print(fruits)"
   ]
  },
  {
   "cell_type": "markdown",
   "metadata": {},
   "source": [
    "15. Use the DateTime module to get Current Date and Time, and save it to a variable. Then extract just the Full month name form that variable."
   ]
  },
  {
   "cell_type": "code",
   "execution_count": 23,
   "metadata": {},
   "outputs": [
    {
     "name": "stdout",
     "output_type": "stream",
     "text": [
      "March\n"
     ]
    }
   ],
   "source": [
    "from datetime import datetime\n",
    "current_datetime = datetime.now()\n",
    "Month_Name = current_datetime.strftime(\"%B\")\n",
    "print(Month_Name)"
   ]
  },
  {
   "cell_type": "markdown",
   "metadata": {},
   "source": [
    "16. Write a simple function that takes 2 parameters -- a  first name and a day name.\n",
    "    - Set a default value for the day name of Sunday.\n",
    "    - Have the function print out a greeting -- using the parameters -- that says something like \"Hi first-name! Happy day-name!\". Remember to use the variables in the greeting to replace first-name and day-name.  \n",
    "    - Invoke this function with 2 variables.\n",
    "    - Invoke this function with 1 variable only.\n"
   ]
  },
  {
   "cell_type": "code",
   "execution_count": 13,
   "metadata": {},
   "outputs": [
    {
     "name": "stdout",
     "output_type": "stream",
     "text": [
      "Hey Chloe! Happy Sunday!\n",
      "Hey Carson! Happy Sunday!\n"
     ]
    }
   ],
   "source": [
    "def x(name, day=\"Sunday\"):\n",
    "    print(f\"Hey {name}! Happy {day}!\")\n",
    "\n",
    "x(\"Chloe\")\n",
    "x(\"Carson\")\n"
   ]
  },
  {
   "cell_type": "markdown",
   "metadata": {},
   "source": [
    "17. Write a block of code to handle one of the most common Python exception errors. Select one of the common errors from the curriculum section on Python Exception handling. Have your code example uses the `try`,`except`, `else`, and `finally` components."
   ]
  },
  {
   "cell_type": "code",
   "execution_count": 64,
   "metadata": {},
   "outputs": [
    {
     "name": "stdout",
     "output_type": "stream",
     "text": [
      "Selected fruit: mango\n",
      "Fruit selection\n",
      "Error: Index out of range.\n",
      "Fruit selection\n"
     ]
    }
   ],
   "source": [
    "import random\n",
    "\n",
    "fruits =['apple', 'pear', 'orange', 'mango']\n",
    "\n",
    "def get_fruit(index):\n",
    "    try:\n",
    "        fruit = fruits[index]  #[error]\n",
    "    except IndexError:\n",
    "        print(\"Error: Index out of range.\")\n",
    "    else:\n",
    "        print(f\"Selected fruit: {fruit}\")  \n",
    "    finally:\n",
    "        print(\"Fruit selection\")  \n",
    "\n",
    "random.shuffle(fruits)\n",
    "get_fruit(1)\n",
    "get_fruit(6)"
   ]
  }
 ],
 "metadata": {
  "kernelspec": {
   "display_name": "Python 3",
   "language": "python",
   "name": "python3"
  },
  "language_info": {
   "codemirror_mode": {
    "name": "ipython",
    "version": 3
   },
   "file_extension": ".py",
   "mimetype": "text/x-python",
   "name": "python",
   "nbconvert_exporter": "python",
   "pygments_lexer": "ipython3",
   "version": "3.13.2"
  }
 },
 "nbformat": 4,
 "nbformat_minor": 2
}
